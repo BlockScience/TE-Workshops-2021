{
 "cells": [
  {
   "cell_type": "markdown",
   "metadata": {},
   "source": [
    "# Bonding Curve Experiments\n",
    "\n",
    "This demo is based off of Dr. Zargham's [Economic Games as Estimators](https://epub.wu.ac.at/7433/) paper. It's abstract is as follows:\n",
    "\n",
    "Discrete event games are discrete time dynamical systems whose state transitions are discrete events caused by actions taken by agents within the game. The agents’ objectives and associated decision rules need not be known to the game designer in order to impose struc- ture on a game’s reachable states. Mechanism design for discrete event games is accomplished by declaring desirable invariant properties and restricting the state transition functions to conserve these properties at every point in time for all admissible actions and for all agents, using techniques familiar from state-feedback control theory. Building upon these connections to control theory, a framework is developed to equip these games with estimation properties of signals which are private to the agents playing the game. Token bonding curves are presented as discrete event games and numerical experiments are used to investigate their signal processing properties with a focus on input-output response dynamics.\n",
    "\n",
    "Our experiments use the bonding curvature parameter $\\kappa =2/2.1$ and the system is initialized with a community token supply $S_0=1000000$ and reserve currency units $R_0=50000$, resulting in an initial price $P_0=0.10$ reserve units per token and an invariant $\\bar V=V_0=20000000$.  The deterministic driving functions are taken with $\\phi=0$, $B=P_0$ and $\\lambda =2000$. Amplitude $A$ takes values $\\frac{P_0}{2}$, $\\frac{P_0}{100}$, and $\\frac{P_0}{2}$ for the Square-Wave, Triangle-Wave and Sine-Wave, respectively. For the Random Walk, an initial condition $\\hat P_0 = P_0$ is applied, and the percent change in $\\hat P_0$ is drawn from a Gaussian distribution with mean $\\mu =0$ and variance $\\sigma=0.05$.\n",
    "\n",
    "We will run 50 monte carlo runs of each version of kappa to find a distribution over time of the price."
   ]
  },
  {
   "cell_type": "code",
   "execution_count": 1,
   "metadata": {},
   "outputs": [],
   "source": [
    "# import libraries\n",
    "import matplotlib.pyplot as plt\n",
    "import numpy as np\n",
    "import scipy.stats as sts\n",
    "import seaborn as sns\n",
    "\n",
    "%matplotlib inline"
   ]
  },
  {
   "cell_type": "markdown",
   "metadata": {},
   "source": [
    "## Testing Different Kappa Parameters\n",
    "\n",
    "Below we run the model which tests two different parameters for kappa, 2 and 3."
   ]
  },
  {
   "cell_type": "code",
   "execution_count": 2,
   "metadata": {},
   "outputs": [
    {
     "name": "stdout",
     "output_type": "stream",
     "text": [
      "\n",
      "                  ___________    ____\n",
      "  ________ __ ___/ / ____/   |  / __ \\\n",
      " / ___/ __` / __  / /   / /| | / / / /\n",
      "/ /__/ /_/ / /_/ / /___/ ___ |/ /_/ /\n",
      "\\___/\\__,_/\\__,_/\\____/_/  |_/_____/\n",
      "by cadCAD\n",
      "\n",
      "Execution Mode: multi_proc\n",
      "Configuration Count: 2\n",
      "Dimensions of the first simulation: (Timesteps, Params, Runs, Vars) = (4000, 9, 50, 5)\n",
      "Execution Method: parallelize_simulations\n",
      "Execution Mode: parallelized\n",
      "Total execution time: 43.70s\n"
     ]
    }
   ],
   "source": [
    "from model_kappa import run as run_kappa\n",
    "from model_kappa.sys_params import sys_params\n",
    "\n",
    "df = run_kappa.run()\n",
    "rdf = run_kappa.postprocessing(df)"
   ]
  },
  {
   "cell_type": "code",
   "execution_count": 3,
   "metadata": {},
   "outputs": [],
   "source": [
    "#Process the data\n",
    "price_sample = rdf.groupby(['timestep', 'kappa'])['price'].mean().unstack()\n",
    "price_sample_std = rdf.groupby(['timestep', 'kappa'])['price'].std().unstack()"
   ]
  },
  {
   "cell_type": "code",
   "execution_count": 6,
   "metadata": {},
   "outputs": [
    {
     "data": {
      "image/png": "[encoded data removed]",
      "text/plain": [
       "<Figure size 432x288 with 1 Axes>"
      ]
     },
     "metadata": {
      "needs_background": "light"
     },
     "output_type": "display_data"
    }
   ],
   "source": [
    "plt.plot(price_sample[2].index, price_sample[2], color='red')\n",
    "plt.plot(price_sample[2.1].index, price_sample[2.1], color='blue')\n",
    "plt.legend([\"$\\kappa=2$\",\"$\\kappa=2.1$\", ])\n",
    "\n",
    "plt.fill_between(price_sample.index,\n",
    "                 price_sample[2] - price_sample_std[2] * 1.645,\n",
    "                 price_sample[2] + price_sample_std[2] * 1.645,\n",
    "                 color='red',\n",
    "                alpha=.2)\n",
    "plt.fill_between(price_sample.index,\n",
    "                 price_sample[2.1] - price_sample_std[2.1] * 1.645,\n",
    "                 price_sample[2.1] + price_sample_std[2.1] * 1.645,\n",
    "                 color='blue',\n",
    "                alpha=.2)\n",
    "plt.title(\"Comparison of Price Sample by $\\kappa$\")\n",
    "plt.xlabel(\"Timestep\")\n",
    "plt.ylabel(\"Price Sample\")\n",
    "plt.show()"
   ]
  },
  {
   "cell_type": "markdown",
   "metadata": {},
   "source": [
    "## Conclusion\n",
    "\n",
    "In this notebook, we have shared the experimental code used by Dr. Zargham's [Economic Games as Estimators](https://epub.wu.ac.at/7433/) paper. We are able to see how we might use cadCAD to simulate different paths that an output could take given a change in parameter."
   ]
  }
 ],
 "metadata": {
  "kernelspec": {
   "display_name": "Python 3",
   "language": "python",
   "name": "python3"
  },
  "language_info": {
   "codemirror_mode": {
    "name": "ipython",
    "version": 3
   },
   "file_extension": ".py",
   "mimetype": "text/x-python",
   "name": "python",
   "nbconvert_exporter": "python",
   "pygments_lexer": "ipython3",
   "version": "3.9.4"
  }
 },
 "nbformat": 4,
 "nbformat_minor": 4
}
